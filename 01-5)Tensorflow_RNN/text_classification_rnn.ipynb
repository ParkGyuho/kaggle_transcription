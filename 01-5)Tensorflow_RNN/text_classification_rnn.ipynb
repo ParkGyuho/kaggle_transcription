{
 "cells": [
  {
   "cell_type": "markdown",
   "metadata": {},
   "source": [
    "### Setup"
   ]
  },
  {
   "cell_type": "code",
   "execution_count": 5,
   "metadata": {},
   "outputs": [],
   "source": [
    "import numpy as np\n",
    "\n",
    "import tensorflow_datasets as tfds\n",
    "import tensorflow as tf\n",
    "\n",
    "tfds.disable_progress_bar()\n"
   ]
  },
  {
   "cell_type": "code",
   "execution_count": 6,
   "metadata": {},
   "outputs": [],
   "source": [
    "import matplotlib.pyplot as plt\n",
    "\n",
    "def plot_graphs(history, metric):\n",
    "    plt.plot(history.history[metric])\n",
    "    plt.plot(history.history['val_'+metric], '')\n",
    "    plt.xlabel(\"Epochs\")\n",
    "    plt.ylabel(metric)\n",
    "    plt.legend([metric, 'val_'+metric])"
   ]
  },
  {
   "cell_type": "markdown",
   "metadata": {},
   "source": [
    "### Setup input pipeline"
   ]
  },
  {
   "cell_type": "code",
   "execution_count": 62,
   "metadata": {},
   "outputs": [
    {
     "data": {
      "text/plain": [
       "(TensorSpec(shape=(), dtype=tf.string, name=None),\n",
       " TensorSpec(shape=(), dtype=tf.int64, name=None))"
      ]
     },
     "execution_count": 62,
     "metadata": {},
     "output_type": "execute_result"
    }
   ],
   "source": [
    "#with_info = True -> tfds.load가 dataset과 metadata를 반환\n",
    "#as_supervised = False -> dataset을 dictionary로 반환\n",
    "#as_supervised = True -> dataset을 tensor형태로 반환\n",
    "dataset, info = tfds.load('imdb_reviews', with_info=True,\n",
    "                        as_supervised = True)\n",
    "train_dataset, test_dataset = dataset['train'], dataset['test']\n",
    "\n",
    "# train dataset의 유형 반환/ text와 label pairs로 반환하게 된다.\n",
    "train_dataset.element_spec\n",
    "#train_dataset.dtype"
   ]
  },
  {
   "cell_type": "code",
   "execution_count": 44,
   "metadata": {},
   "outputs": [
    {
     "data": {
      "text/plain": [
       "tfds.core.DatasetInfo(\n",
       "    name='imdb_reviews',\n",
       "    full_name='imdb_reviews/plain_text/1.0.0',\n",
       "    description=\"\"\"\n",
       "    Large Movie Review Dataset.\n",
       "    This is a dataset for binary sentiment classification containing substantially more data than previous benchmark datasets. We provide a set of 25,000 highly polar movie reviews for training, and 25,000 for testing. There is additional unlabeled data for use as well.\n",
       "    \"\"\",\n",
       "    config_description=\"\"\"\n",
       "    Plain text\n",
       "    \"\"\",\n",
       "    homepage='http://ai.stanford.edu/~amaas/data/sentiment/',\n",
       "    data_path='C:\\\\Users\\\\pgho8\\\\tensorflow_datasets\\\\imdb_reviews\\\\plain_text\\\\1.0.0',\n",
       "    file_format=tfrecord,\n",
       "    download_size=80.23 MiB,\n",
       "    dataset_size=129.83 MiB,\n",
       "    features=FeaturesDict({\n",
       "        'label': ClassLabel(shape=(), dtype=tf.int64, num_classes=2),\n",
       "        'text': Text(shape=(), dtype=tf.string),\n",
       "    }),\n",
       "    supervised_keys=('text', 'label'),\n",
       "    disable_shuffling=False,\n",
       "    splits={\n",
       "        'test': <SplitInfo num_examples=25000, num_shards=1>,\n",
       "        'train': <SplitInfo num_examples=25000, num_shards=1>,\n",
       "        'unsupervised': <SplitInfo num_examples=50000, num_shards=1>,\n",
       "    },\n",
       "    citation=\"\"\"@InProceedings{maas-EtAl:2011:ACL-HLT2011,\n",
       "      author    = {Maas, Andrew L.  and  Daly, Raymond E.  and  Pham, Peter T.  and  Huang, Dan  and  Ng, Andrew Y.  and  Potts, Christopher},\n",
       "      title     = {Learning Word Vectors for Sentiment Analysis},\n",
       "      booktitle = {Proceedings of the 49th Annual Meeting of the Association for Computational Linguistics: Human Language Technologies},\n",
       "      month     = {June},\n",
       "      year      = {2011},\n",
       "      address   = {Portland, Oregon, USA},\n",
       "      publisher = {Association for Computational Linguistics},\n",
       "      pages     = {142--150},\n",
       "      url       = {http://www.aclweb.org/anthology/P11-1015}\n",
       "    }\"\"\",\n",
       ")"
      ]
     },
     "execution_count": 44,
     "metadata": {},
     "output_type": "execute_result"
    }
   ],
   "source": [
    "info"
   ]
  },
  {
   "cell_type": "code",
   "execution_count": 53,
   "metadata": {},
   "outputs": [
    {
     "name": "stdout",
     "output_type": "stream",
     "text": [
      "text:  b\"This was an absolutely terrible movie. Don't be lured in by Christopher Walken or Michael Ironside. Both are great actors, but this must simply be their worst role in history. Even their great acting could not redeem this movie's ridiculous storyline. This movie is an early nineties US propaganda piece. The most pathetic scenes were those when the Columbian rebels were making their cases for revolutions. Maria Conchita Alonso appeared phony, and her pseudo-love affair with Walken was nothing but a pathetic emotional plug in a movie that was devoid of any real meaning. I am disappointed that there are movies like this, ruining actor's like Christopher Walken's good name. I could barely sit through it.\"\n",
      "label:  0\n"
     ]
    }
   ],
   "source": [
    "#train_dataset[0]\n",
    "for example, label in train_dataset.take(1):\n",
    "    print('text: ', example.numpy())\n",
    "    print('label: ', label.numpy())"
   ]
  },
  {
   "cell_type": "code",
   "execution_count": 61,
   "metadata": {},
   "outputs": [
    {
     "name": "stdout",
     "output_type": "stream",
     "text": [
      "{'label': <tf.Tensor: shape=(), dtype=int64, numpy=0>, 'text': <tf.Tensor: shape=(), dtype=string, numpy=b\"This was an absolutely terrible movie. Don't be lured in by Christopher Walken or Michael Ironside. Both are great actors, but this must simply be their worst role in history. Even their great acting could not redeem this movie's ridiculous storyline. This movie is an early nineties US propaganda piece. The most pathetic scenes were those when the Columbian rebels were making their cases for revolutions. Maria Conchita Alonso appeared phony, and her pseudo-love affair with Walken was nothing but a pathetic emotional plug in a movie that was devoid of any real meaning. I am disappointed that there are movies like this, ruining actor's like Christopher Walken's good name. I could barely sit through it.\">}\n"
     ]
    }
   ],
   "source": [
    "for example in train_dataset.take(1):\n",
    "    print(example)\n"
   ]
  },
  {
   "cell_type": "code",
   "execution_count": null,
   "metadata": {},
   "outputs": [],
   "source": [
    "BUFFER_SIZE = 10000\n",
    "BATCH_SIZE = 64\n",
    "\n",
    "'''\n",
    "train_dataset -> label -> 앞에서 1만개 범위 안에서 데이터를 섞어줘라\n",
    "train_dataset.shuffle(BUFFER_SIZE)\n",
    "\n",
    "batch -> 섞은 데이터 안에서 64만큼 뽑아라!!\n",
    "'''"
   ]
  },
  {
   "cell_type": "code",
   "execution_count": 10,
   "metadata": {},
   "outputs": [],
   "source": [
    "#shuffle -> 범위 안(BUFFER_SIZE)에서 데이터를 섞어줌\n",
    "#batch -> shuffle된 범위 안에서 데이터 선정\n",
    "#prefectch(tf.data.AUTOTUNE) -> 훈련 최대 스텝시간과 데이터 추출하는데 걸리는 시간 단축\n",
    "# 데이터를 불러오고 학습하는데 시간을 단축시키는 역할을 한다!\n",
    "train_dataset = train_dataset.shuffle(BUFFER_SIZE).batch(BATCH_SIZE).prefetch(tf.data.AUTOTUNE)\n",
    "test_dataset = test_dataset.batch(BATCH_SIZE).prefetch(tf.data.AUTOTUNE)"
   ]
  },
  {
   "cell_type": "code",
   "execution_count": 11,
   "metadata": {},
   "outputs": [
    {
     "name": "stdout",
     "output_type": "stream",
     "text": [
      "texts: [b\"It's this sort of movie that you try and imitate. By attempting to realise something... then flying through the air almost immediately. I'd like to do that and I know you would too!<br /><br />Great stuff!\"\n",
      " b'Final Justice has the great Joe Don Baker running around Texas, shooting people who shoot people. Then he\\'s off to Malta where he shoots more people. He gets locked up many times for shooting people. Then he gets into a gunfight with the bad guy, who is dressed like a monk. There is a boat chase, and Joe Don winds up in jail again. Finally Joe Don, with the help from Elaine from \"Seinfeld\" kill the bad guy, blow up a boat or two and someone gets shot with a flare. All this and a catchy theme song, just like Mitchell!'\n",
      " b'WHEN FRIENDSHIP KILLS, in my opinion, is a very touching and kind of heartbreaking drama about the consequences of being anorexic or bulimic. Anytime Lexi (Katie Wright) or Jennifer (Marley Shelton) threw up, I wanted to vomit myself. It\\'s kind of hard to explain why. If you ask me, they should have been more cooperative about things. However, I did enjoy seeing them do things together as well as get lectured by their parents. Before I wrap this up, I\\'d like to say, \"If you ask me, WHEN FRIENDSHIP KILLS does indeed show you how being anorexic or bulimic can affect a person\\'s body. \" Now, in conclusion, I recommend this movie to everyone who hasn\\'t seen it. You\\'re in for some tears and a good time, so the next time it\\'s on TV, kick back with a friend and watch it.']\n",
      "\n",
      "labels:  [1 0 1]\n"
     ]
    }
   ],
   "source": [
    "for example, label in train_dataset.take(1):\n",
    "    print('texts:', example.numpy()[:3])\n",
    "    print()\n",
    "    print('labels: ', label.numpy()[:3])"
   ]
  },
  {
   "cell_type": "markdown",
   "metadata": {},
   "source": [
    "### Create the text encoder"
   ]
  },
  {
   "cell_type": "code",
   "execution_count": 13,
   "metadata": {},
   "outputs": [],
   "source": [
    "VOCAB_SIZE = 1000\n",
    "encoder = tf.keras.layers.TextVectorization(\n",
    "    max_tokens = VOCAB_SIZE\n",
    ")\n",
    "#sklearn에서 fit하는 과정\n",
    "#map은 train_dataset에서 text와 label 중에서 text만 꺼내서 TextVectorization에 fit하는 과정\n",
    "#encoder.fit(train_dataset.map(lambda text,label: text))\n",
    "encoder.adapt(train_dataset.map(lambda text, label: text))\n"
   ]
  },
  {
   "cell_type": "code",
   "execution_count": 15,
   "metadata": {},
   "outputs": [
    {
     "data": {
      "text/plain": [
       "array(['', '[UNK]', 'the', 'and', 'a', 'of', 'to', 'is', 'in', 'it', 'i',\n",
       "       'this', 'that', 'br', 'was', 'as', 'for', 'with', 'movie', 'but'],\n",
       "      dtype='<U14')"
      ]
     },
     "execution_count": 15,
     "metadata": {},
     "output_type": "execute_result"
    }
   ],
   "source": [
    "vocab = np.array(encoder.get_vocabulary())\n",
    "vocab[:20]"
   ]
  },
  {
   "cell_type": "code",
   "execution_count": 55,
   "metadata": {},
   "outputs": [
    {
     "data": {
      "text/plain": [
       "1000"
      ]
     },
     "execution_count": 55,
     "metadata": {},
     "output_type": "execute_result"
    }
   ],
   "source": [
    "#encoder에서 vocab_size를 1000으로 지정했기 때문\n",
    "len(vocab)\n",
    "# vocab[464]"
   ]
  },
  {
   "cell_type": "code",
   "execution_count": 70,
   "metadata": {},
   "outputs": [
    {
     "data": {
      "text/plain": [
       "'sort'"
      ]
     },
     "execution_count": 70,
     "metadata": {},
     "output_type": "execute_result"
    }
   ],
   "source": [
    "vocab[425]"
   ]
  },
  {
   "cell_type": "code",
   "execution_count": 18,
   "metadata": {},
   "outputs": [
    {
     "data": {
      "text/plain": [
       "array([[ 30,  11, 425, ...,   0,   0,   0],\n",
       "       [464,   1,  44, ...,   0,   0,   0],\n",
       "       [ 51,   1,   1, ...,   0,   0,   0]], dtype=int64)"
      ]
     },
     "execution_count": 18,
     "metadata": {},
     "output_type": "execute_result"
    }
   ],
   "source": [
    "encoded_example = encoder(example)[:3].numpy()\n",
    "encoded_example"
   ]
  },
  {
   "cell_type": "code",
   "execution_count": 57,
   "metadata": {},
   "outputs": [
    {
     "data": {
      "text/html": [
       "<div>\n",
       "<style scoped>\n",
       "    .dataframe tbody tr th:only-of-type {\n",
       "        vertical-align: middle;\n",
       "    }\n",
       "\n",
       "    .dataframe tbody tr th {\n",
       "        vertical-align: top;\n",
       "    }\n",
       "\n",
       "    .dataframe thead th {\n",
       "        text-align: right;\n",
       "    }\n",
       "</style>\n",
       "<table border=\"1\" class=\"dataframe\">\n",
       "  <thead>\n",
       "    <tr style=\"text-align: right;\">\n",
       "      <th></th>\n",
       "      <th>0</th>\n",
       "      <th>1</th>\n",
       "      <th>2</th>\n",
       "      <th>3</th>\n",
       "      <th>4</th>\n",
       "      <th>5</th>\n",
       "      <th>6</th>\n",
       "      <th>7</th>\n",
       "      <th>8</th>\n",
       "      <th>9</th>\n",
       "      <th>...</th>\n",
       "      <th>540</th>\n",
       "      <th>541</th>\n",
       "      <th>542</th>\n",
       "      <th>543</th>\n",
       "      <th>544</th>\n",
       "      <th>545</th>\n",
       "      <th>546</th>\n",
       "      <th>547</th>\n",
       "      <th>548</th>\n",
       "      <th>549</th>\n",
       "    </tr>\n",
       "  </thead>\n",
       "  <tbody>\n",
       "    <tr>\n",
       "      <th>0</th>\n",
       "      <td>30</td>\n",
       "      <td>11</td>\n",
       "      <td>425</td>\n",
       "      <td>5</td>\n",
       "      <td>18</td>\n",
       "      <td>12</td>\n",
       "      <td>23</td>\n",
       "      <td>337</td>\n",
       "      <td>3</td>\n",
       "      <td>1</td>\n",
       "      <td>...</td>\n",
       "      <td>0</td>\n",
       "      <td>0</td>\n",
       "      <td>0</td>\n",
       "      <td>0</td>\n",
       "      <td>0</td>\n",
       "      <td>0</td>\n",
       "      <td>0</td>\n",
       "      <td>0</td>\n",
       "      <td>0</td>\n",
       "      <td>0</td>\n",
       "    </tr>\n",
       "    <tr>\n",
       "      <th>1</th>\n",
       "      <td>464</td>\n",
       "      <td>1</td>\n",
       "      <td>44</td>\n",
       "      <td>2</td>\n",
       "      <td>85</td>\n",
       "      <td>885</td>\n",
       "      <td>1</td>\n",
       "      <td>1</td>\n",
       "      <td>611</td>\n",
       "      <td>184</td>\n",
       "      <td>...</td>\n",
       "      <td>0</td>\n",
       "      <td>0</td>\n",
       "      <td>0</td>\n",
       "      <td>0</td>\n",
       "      <td>0</td>\n",
       "      <td>0</td>\n",
       "      <td>0</td>\n",
       "      <td>0</td>\n",
       "      <td>0</td>\n",
       "      <td>0</td>\n",
       "    </tr>\n",
       "    <tr>\n",
       "      <th>2</th>\n",
       "      <td>51</td>\n",
       "      <td>1</td>\n",
       "      <td>1</td>\n",
       "      <td>8</td>\n",
       "      <td>56</td>\n",
       "      <td>656</td>\n",
       "      <td>7</td>\n",
       "      <td>4</td>\n",
       "      <td>53</td>\n",
       "      <td>1</td>\n",
       "      <td>...</td>\n",
       "      <td>0</td>\n",
       "      <td>0</td>\n",
       "      <td>0</td>\n",
       "      <td>0</td>\n",
       "      <td>0</td>\n",
       "      <td>0</td>\n",
       "      <td>0</td>\n",
       "      <td>0</td>\n",
       "      <td>0</td>\n",
       "      <td>0</td>\n",
       "    </tr>\n",
       "  </tbody>\n",
       "</table>\n",
       "<p>3 rows × 550 columns</p>\n",
       "</div>"
      ],
      "text/plain": [
       "   0    1    2    3    4    5    6    7    8    9    ...  540  541  542  543  \\\n",
       "0   30   11  425    5   18   12   23  337    3    1  ...    0    0    0    0   \n",
       "1  464    1   44    2   85  885    1    1  611  184  ...    0    0    0    0   \n",
       "2   51    1    1    8   56  656    7    4   53    1  ...    0    0    0    0   \n",
       "\n",
       "   544  545  546  547  548  549  \n",
       "0    0    0    0    0    0    0  \n",
       "1    0    0    0    0    0    0  \n",
       "2    0    0    0    0    0    0  \n",
       "\n",
       "[3 rows x 550 columns]"
      ]
     },
     "execution_count": 57,
     "metadata": {},
     "output_type": "execute_result"
    }
   ],
   "source": [
    "import pandas as pd\n",
    "\n",
    "# vocab index로 문장을 구성하기!\n",
    "pd.DataFrame(encoded_example)"
   ]
  },
  {
   "cell_type": "code",
   "execution_count": 17,
   "metadata": {},
   "outputs": [
    {
     "name": "stdout",
     "output_type": "stream",
     "text": [
      "Original:  b\"It's this sort of movie that you try and imitate. By attempting to realise something... then flying through the air almost immediately. I'd like to do that and I know you would too!<br /><br />Great stuff!\"\n",
      "Round-trip:  its this sort of movie that you try and [UNK] by [UNK] to [UNK] something then [UNK] through the air almost [UNK] id like to do that and i know you would [UNK] br great stuff                                                                                                                                                                                                                                                                                                                                                                                                                                                                                                                                  \n",
      "\n",
      "Original:  b'Final Justice has the great Joe Don Baker running around Texas, shooting people who shoot people. Then he\\'s off to Malta where he shoots more people. He gets locked up many times for shooting people. Then he gets into a gunfight with the bad guy, who is dressed like a monk. There is a boat chase, and Joe Don winds up in jail again. Finally Joe Don, with the help from Elaine from \"Seinfeld\" kill the bad guy, blow up a boat or two and someone gets shot with a flare. All this and a catchy theme song, just like Mitchell!'\n",
      "Round-trip:  final [UNK] has the great joe [UNK] [UNK] running around [UNK] [UNK] people who [UNK] people then hes off to [UNK] where he [UNK] more people he gets [UNK] up many times for [UNK] people then he gets into a [UNK] with the bad guy who is [UNK] like a [UNK] there is a [UNK] [UNK] and joe [UNK] [UNK] up in [UNK] again finally joe [UNK] with the help from [UNK] from [UNK] kill the bad guy [UNK] up a [UNK] or two and someone gets shot with a [UNK] all this and a [UNK] theme song just like [UNK]                                                                                                                                                                                                                                                                                                                                                                                                                                                                 \n",
      "\n",
      "Original:  b'WHEN FRIENDSHIP KILLS, in my opinion, is a very touching and kind of heartbreaking drama about the consequences of being anorexic or bulimic. Anytime Lexi (Katie Wright) or Jennifer (Marley Shelton) threw up, I wanted to vomit myself. It\\'s kind of hard to explain why. If you ask me, they should have been more cooperative about things. However, I did enjoy seeing them do things together as well as get lectured by their parents. Before I wrap this up, I\\'d like to say, \"If you ask me, WHEN FRIENDSHIP KILLS does indeed show you how being anorexic or bulimic can affect a person\\'s body. \" Now, in conclusion, I recommend this movie to everyone who hasn\\'t seen it. You\\'re in for some tears and a good time, so the next time it\\'s on TV, kick back with a friend and watch it.'\n",
      "Round-trip:  when [UNK] [UNK] in my opinion is a very [UNK] and kind of [UNK] drama about the [UNK] of being [UNK] or [UNK] [UNK] [UNK] [UNK] [UNK] or [UNK] [UNK] [UNK] [UNK] up i wanted to [UNK] myself its kind of hard to [UNK] why if you ask me they should have been more [UNK] about things however i did enjoy seeing them do things together as well as get [UNK] by their parents before i [UNK] this up id like to say if you ask me when [UNK] [UNK] does indeed show you how being [UNK] or [UNK] can [UNK] a [UNK] body now in [UNK] i recommend this movie to everyone who [UNK] seen it youre in for some [UNK] and a good time so the next time its on tv [UNK] back with a friend and watch it                                                                                                                                                                                                                                                                                                                                                                                                                         \n",
      "\n"
     ]
    }
   ],
   "source": [
    "for n in range(3):\n",
    "    print(\"Original: \", example[n].numpy())\n",
    "    print(\"Round-trip: \", \" \".join(vocab[encoded_example[n]]))\n",
    "    print()"
   ]
  },
  {
   "cell_type": "markdown",
   "metadata": {},
   "source": [
    "### Create the model"
   ]
  },
  {
   "cell_type": "markdown",
   "metadata": {},
   "source": [
    "#### 단어의 분산표현!  \n",
    "분포 가설(distribution hypothesis)? : 유사한 맥락에서 나타나는 단어는 그 의미도 비슷하다  \n",
    "\n",
    "#### LSTM의 역할\n",
    "\n",
    "유사한 맥락에 나타난 단어들끼리는 두 단어 벡터 사이의 거리를 가깝게 하고, 그렇지 않은 단어들끼리는 멀어지도록 조금씩 조정 [이렇게 얻어지는 단어 벡터 : 분산 표현(Distributed Representation)]  \n",
    "\n",
    "분산 표현을 사용하면 희소 표현과는 다르게 단어 간의 유사도를 계산으로 구할 수 있음!"
   ]
  },
  {
   "cell_type": "markdown",
   "metadata": {},
   "source": [
    "<img src='https://img1.daumcdn.net/thumb/R1280x0/?scode=mtistory2&fname=https%3A%2F%2Fblog.kakaocdn.net%2Fdn%2FbzkjtG%2FbtrsSvTlAX4%2FrRIusRNzOqocOd1ZwC7lck%2Fimg.png'>"
   ]
  },
  {
   "cell_type": "code",
   "execution_count": 58,
   "metadata": {},
   "outputs": [],
   "source": [
    "model = tf.keras.Sequential([\n",
    "    encoder,\n",
    "    #Embedding 과정이 필요한 이유 -> 각 단어의 encoder를 지정된 차원으로 벡터화시켜주기 위함\n",
    "    #분포 가설에 따라 모든 단어를 고정 차원 (예를 들어 64차원)의 벡터로 표현\n",
    "    tf.keras.layers.Embedding(\n",
    "        input_dim=len(encoder.get_vocabulary()),\n",
    "        output_dim=64,\n",
    "        mask_zero=True),\n",
    "    tf.keras.layers.Bidirectional(tf.keras.layers.LSTM(64)),\n",
    "    tf.keras.layers.Dense(64, activation='relu'),\n",
    "    tf.keras.layers.Dense(1)\n",
    "])\n"
   ]
  },
  {
   "cell_type": "markdown",
   "metadata": {},
   "source": [
    "### 양방향(Bidirectional) RNN\n",
    "\n",
    "<img src='https://img1.daumcdn.net/thumb/R1280x0/?scode=mtistory2&fname=https%3A%2F%2Fblog.kakaocdn.net%2Fdn%2FbsV7Oo%2FbtrsSkqRALe%2FRi5aPH3yutWkySYkDWwyY1%2Fimg.jpg'></br>\n",
    "해당 빈 칸 안에 알맞게 단어를 넣으려면, 앞 뒤를 다 봐야하는데, 순차 RNN으로는 문제가 있다."
   ]
  },
  {
   "cell_type": "code",
   "execution_count": 29,
   "metadata": {},
   "outputs": [
    {
     "name": "stdout",
     "output_type": "stream",
     "text": [
      "[False, True, True, True, True]\n"
     ]
    }
   ],
   "source": [
    "print([layer.supports_masking for layer in model.layers])"
   ]
  },
  {
   "cell_type": "code",
   "execution_count": 30,
   "metadata": {},
   "outputs": [
    {
     "name": "stdout",
     "output_type": "stream",
     "text": [
      "1/1 [==============================] - 2s 2s/step\n",
      "[0.00119075]\n"
     ]
    }
   ],
   "source": [
    "sample_text = ('The movie was cool. The animation and the graphics '\n",
    "               'were out of this world. I would recommend this movie.')\n",
    "predictions = model.predict(np.array([sample_text]))\n",
    "print(predictions[0])"
   ]
  },
  {
   "cell_type": "code",
   "execution_count": 31,
   "metadata": {},
   "outputs": [
    {
     "name": "stdout",
     "output_type": "stream",
     "text": [
      "1/1 [==============================] - 0s 220ms/step\n",
      "[0.00119075]\n"
     ]
    }
   ],
   "source": [
    "padding = 'the ' * 2000\n",
    "predictions = model.predict(np.array([sample_text,padding]))\n",
    "print(predictions[0])"
   ]
  },
  {
   "cell_type": "code",
   "execution_count": 33,
   "metadata": {},
   "outputs": [],
   "source": [
    "model.compile(loss=tf.keras.losses.BinaryCrossentropy(from_logits=True),\n",
    "            optimizer = tf.keras.optimizers.Adam(1e-4),\n",
    "            metrics = ['accuracy'])"
   ]
  },
  {
   "cell_type": "markdown",
   "metadata": {},
   "source": [
    "### Train the model"
   ]
  },
  {
   "cell_type": "code",
   "execution_count": 35,
   "metadata": {},
   "outputs": [
    {
     "name": "stdout",
     "output_type": "stream",
     "text": [
      "Epoch 1/5\n",
      "391/391 [==============================] - 881s 2s/step - loss: 0.4505 - accuracy: 0.7674 - val_loss: 0.3957 - val_accuracy: 0.7995\n",
      "Epoch 2/5\n",
      "391/391 [==============================] - 762s 2s/step - loss: 0.3514 - accuracy: 0.8427 - val_loss: 0.3505 - val_accuracy: 0.8344\n",
      "Epoch 3/5\n",
      "391/391 [==============================] - 756s 2s/step - loss: 0.3266 - accuracy: 0.8566 - val_loss: 0.3966 - val_accuracy: 0.7911\n",
      "Epoch 4/5\n",
      "391/391 [==============================] - 729s 2s/step - loss: 0.3158 - accuracy: 0.8630 - val_loss: 0.3479 - val_accuracy: 0.8589\n",
      "Epoch 5/5\n",
      "391/391 [==============================] - 779s 2s/step - loss: 0.3066 - accuracy: 0.8686 - val_loss: 0.3214 - val_accuracy: 0.8557\n"
     ]
    }
   ],
   "source": [
    "history = model.fit(train_dataset, epochs=5, validation_data=test_dataset,\n",
    "                    validation_steps=30)"
   ]
  },
  {
   "cell_type": "code",
   "execution_count": 36,
   "metadata": {},
   "outputs": [
    {
     "name": "stdout",
     "output_type": "stream",
     "text": [
      "391/391 [==============================] - 141s 362ms/step - loss: 0.3146 - accuracy: 0.8585\n",
      "Test Loss: 0.31463128328323364\n",
      "Test Accuracy: 0.858519971370697\n"
     ]
    }
   ],
   "source": [
    "test_loss, test_acc = model.evaluate(test_dataset)\n",
    "\n",
    "print('Test Loss:', test_loss)\n",
    "print('Test Accuracy:', test_acc)"
   ]
  },
  {
   "cell_type": "code",
   "execution_count": 37,
   "metadata": {},
   "outputs": [
    {
     "data": {
      "text/plain": [
       "(0.0, 0.45772010684013364)"
      ]
     },
     "execution_count": 37,
     "metadata": {},
     "output_type": "execute_result"
    },
    {
     "data": {
      "image/png": "[encoded data removed]",
      "text/plain": [
       "<Figure size 1152x576 with 2 Axes>"
      ]
     },
     "metadata": {
      "needs_background": "light"
     },
     "output_type": "display_data"
    }
   ],
   "source": [
    "plt.figure(figsize=(16,8))\n",
    "plt.subplot(1,2,1)\n",
    "plot_graphs(history, 'accuracy')\n",
    "plt.ylim(None,1)\n",
    "plt.subplot(1,2,2)\n",
    "plot_graphs(history,'loss')\n",
    "plt.ylim(0, None)"
   ]
  },
  {
   "cell_type": "code",
   "execution_count": 38,
   "metadata": {},
   "outputs": [
    {
     "name": "stdout",
     "output_type": "stream",
     "text": [
      "1/1 [==============================] - 2s 2s/step\n"
     ]
    }
   ],
   "source": [
    "sample_text = ('The movie was cool. The animation and the graphics '\n",
    "               'were out of this world. I would recommend this movie.')\n",
    "predictions = model.predict(np.array([sample_text]))"
   ]
  },
  {
   "cell_type": "code",
   "execution_count": 40,
   "metadata": {},
   "outputs": [
    {
     "data": {
      "text/plain": [
       "array([[0.9932607]], dtype=float32)"
      ]
     },
     "execution_count": 40,
     "metadata": {},
     "output_type": "execute_result"
    }
   ],
   "source": [
    "predictions"
   ]
  },
  {
   "cell_type": "markdown",
   "metadata": {},
   "source": [
    "### Stack two or more LSTM layers"
   ]
  },
  {
   "cell_type": "code",
   "execution_count": null,
   "metadata": {},
   "outputs": [],
   "source": []
  }
 ],
 "metadata": {
  "interpreter": {
   "hash": "1c1f657b55f9e5c8540078b860d4dd0ddd2a500de25085401787f024aa7c4e1a"
  },
  "kernelspec": {
   "display_name": "Python 3.8.5 ('base')",
   "language": "python",
   "name": "python3"
  },
  "language_info": {
   "codemirror_mode": {
    "name": "ipython",
    "version": 3
   },
   "file_extension": ".py",
   "mimetype": "text/x-python",
   "name": "python",
   "nbconvert_exporter": "python",
   "pygments_lexer": "ipython3",
   "version": "3.8.5"
  },
  "orig_nbformat": 4
 },
 "nbformat": 4,
 "nbformat_minor": 2
}
